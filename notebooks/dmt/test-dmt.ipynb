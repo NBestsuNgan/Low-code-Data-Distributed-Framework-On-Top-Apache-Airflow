{
 "cells": [
  {
   "cell_type": "code",
   "execution_count": 23,
   "id": "b03b82b1-467c-4b2f-b041-a94059a52cec",
   "metadata": {
    "editable": true,
    "slideshow": {
     "slide_type": "skip"
    },
    "tags": [
     "parameters",
     "parameter"
    ]
   },
   "outputs": [],
   "source": [
    "# paramter cell do not remove!!\n",
    "af_parm = \"airflow-data/afo/script/Agg_ride.sql\""
   ]
  },
  {
   "cell_type": "code",
   "execution_count": 2,
   "id": "da187d7e-c66d-41c0-9bef-2cab5d4ecc96",
   "metadata": {},
   "outputs": [],
   "source": [
    "import sys\n",
    "sys.path.append(\"/home/iceberg/notebooks/notebooks\")\n",
    "\n",
    "%load_ext autoreload\n",
    "%autoreload 2\n",
    "    \n",
    "from Framework.module import Utility"
   ]
  },
  {
   "cell_type": "markdown",
   "id": "ac9c84bf-c0e9-49e3-b520-680adeaad713",
   "metadata": {},
   "source": [
    "## Do the task After this"
   ]
  },
  {
   "cell_type": "code",
   "execution_count": 24,
   "id": "c7847f82-6d91-4adb-b74c-5e4795998331",
   "metadata": {},
   "outputs": [
    {
     "name": "stdout",
     "output_type": "stream",
     "text": [
      "bucket_name : airflow-data\n",
      "script_path : afo/script/Agg_ride.sql\n"
     ]
    }
   ],
   "source": [
    "bucket_name = af_parm.split('/')[0]\n",
    "script_path = '/'.join(af_parm.split('/')[1:])\n",
    "\n",
    "print(\"bucket_name :\", bucket_name)\n",
    "print(\"script_path :\", script_path)\n"
   ]
  },
  {
   "cell_type": "code",
   "execution_count": 29,
   "id": "19a02c60-5328-4fbb-bb0d-859cffef2f64",
   "metadata": {},
   "outputs": [
    {
     "name": "stdout",
     "output_type": "stream",
     "text": [
      "Executing statement:\n",
      "INSERT INTO EDP.AGG_RIDE \n",
      "WITH DE_DUP AS (\n",
      "SELECT DISTINCT * FROM EDP.PRCS_TEST_FRAMEWORK1 \n",
      ")\n",
      "\n",
      "SELECT PASSENGER_COUNT, SUM(TRIP_DISTANCE) AS SUM_OF_TRIP_DISTANCE\n",
      "FROM DE_DUP\n",
      "WHERE PASSENGER_COUNT <> 0\n",
      "GROUP BY PASSENGER_COUNT\n",
      "ORDER BY SUM_OF_TRIP_DISTANCE DESC\n",
      "\n",
      "Execution Successful\n"
     ]
    }
   ],
   "source": [
    "Utility.af_execute_to_oracle(bucket_name, script_path)"
   ]
  }
 ],
 "metadata": {
  "kernelspec": {
   "display_name": "Python 3 (ipykernel)",
   "language": "python",
   "name": "python3"
  },
  "language_info": {
   "codemirror_mode": {
    "name": "ipython",
    "version": 3
   },
   "file_extension": ".py",
   "mimetype": "text/x-python",
   "name": "python",
   "nbconvert_exporter": "python",
   "pygments_lexer": "ipython3",
   "version": "3.9.18"
  }
 },
 "nbformat": 4,
 "nbformat_minor": 5
}
