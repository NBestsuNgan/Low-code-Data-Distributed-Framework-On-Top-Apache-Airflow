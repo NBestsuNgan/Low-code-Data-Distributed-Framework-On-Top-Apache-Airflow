{
 "cells": [
  {
   "cell_type": "code",
   "execution_count": 4,
   "id": "9d827a92-d03c-4e5e-8dbd-92bd9f7f5129",
   "metadata": {
    "editable": true,
    "slideshow": {
     "slide_type": ""
    },
    "tags": [
     "parameter"
    ]
   },
   "outputs": [],
   "source": [
    "# paramter cell do not remove!!\n",
    "af_parm=''"
   ]
  },
  {
   "cell_type": "code",
   "execution_count": 12,
   "id": "75bd2a16-1b6d-4a79-8133-0fe4c18a21d6",
   "metadata": {
    "editable": true,
    "slideshow": {
     "slide_type": ""
    },
    "tags": []
   },
   "outputs": [
    {
     "name": "stdout",
     "output_type": "stream",
     "text": [
      "Spark version: 3.5.1\n"
     ]
    }
   ],
   "source": [
    "from pyspark.sql import SparkSession\n",
    "\n",
    "# Initialize a Spark session\n",
    "spark = SparkSession.builder \\\n",
    "    .appName(\"TestPySpark\") \\\n",
    "    .getOrCreate()\n",
    "\n",
    "# Print Spark version\n",
    "print(\"Spark version:\", spark.version)\n",
    "\n",
    "# Stop the Spark session\n",
    "# spark.stop()\n"
   ]
  },
  {
   "cell_type": "code",
   "execution_count": 13,
   "id": "430ce9b7-e4f4-44a3-bebc-e6f6d09d9aaa",
   "metadata": {},
   "outputs": [
    {
     "name": "stdout",
     "output_type": "stream",
     "text": [
      "SparkContext initialized: <SparkContext master=local[*] appName=PySparkShell>\n"
     ]
    }
   ],
   "source": [
    "sc = spark.sparkContext\n",
    "print(\"SparkContext initialized:\", sc)\n"
   ]
  },
  {
   "cell_type": "code",
   "execution_count": 14,
   "id": "0dde2b68-e318-43f5-b08c-938e890adf7b",
   "metadata": {},
   "outputs": [
    {
     "name": "stdout",
     "output_type": "stream",
     "text": [
      "+-----+---+\n",
      "| Name|Age|\n",
      "+-----+---+\n",
      "|Alice| 29|\n",
      "|  Bob| 35|\n",
      "|Cathy| 25|\n",
      "+-----+---+\n",
      "\n"
     ]
    }
   ],
   "source": [
    "data = [(\"Alice\", 29), (\"Bob\", 35), (\"Cathy\", 25)]\n",
    "columns = [\"Name\", \"Age\"]\n",
    "\n",
    "df = spark.createDataFrame(data, columns)\n",
    "df.show()\n"
   ]
  },
  {
   "cell_type": "code",
   "execution_count": 6,
   "id": "7aad714d-da75-4feb-8e95-051625fd720c",
   "metadata": {},
   "outputs": [
    {
     "name": "stdout",
     "output_type": "stream",
     "text": [
      "Successfully uploaded blank_file__(2024-12-22 11:48:14.626917).txt to airflow-data\n"
     ]
    }
   ],
   "source": [
    "import boto3\n",
    "from botocore.config import Config\n",
    "import os\n",
    "from datetime import datetime\n",
    "bucket_name = \"airflow-data\"\n",
    "\n",
    "# Connect to MinIO\n",
    "s3 = boto3.client(\n",
    "    's3',\n",
    "    endpoint_url='http://minio:9000',  # Replace with your MinIO server URL\n",
    "    config=Config(signature_version='s3v4')\n",
    ")\n",
    "# Function to create and upload blank files\n",
    "def create_and_upload_file(filename, bucket_name):\n",
    "    # Create a blank file\n",
    "    with open(filename, 'w') as file:\n",
    "        pass  # This will create an empty file\n",
    "\n",
    "    # Upload to MinIO bucket\n",
    "    try:\n",
    "        s3.upload_file(filename, bucket_name, filename)\n",
    "        print(f\"Successfully uploaded {filename} to {bucket_name}\")\n",
    "    except Exception as e:\n",
    "        print(f\"Error uploading {filename}: {e}\")\n",
    "    finally:\n",
    "        # Remove the file after upload (optional)\n",
    "        os.remove(filename)\n",
    "\n",
    "# Example: Create and upload blank files\n",
    "for i in range(1):\n",
    "    filename = f\"blank_file_{af_parm}_({datetime.now()}).txt\"  # Example filenames\n",
    "    create_and_upload_file(filename, bucket_name)\n"
   ]
  },
  {
   "cell_type": "code",
   "execution_count": null,
   "id": "1316e848-7e00-4cdd-b053-9848281c7fc3",
   "metadata": {},
   "outputs": [],
   "source": []
  }
 ],
 "metadata": {
  "kernelspec": {
   "display_name": "Python 3 (ipykernel)",
   "language": "python",
   "name": "python3"
  },
  "language_info": {
   "codemirror_mode": {
    "name": "ipython",
    "version": 3
   },
   "file_extension": ".py",
   "mimetype": "text/x-python",
   "name": "python",
   "nbconvert_exporter": "python",
   "pygments_lexer": "ipython3",
   "version": "3.9.18"
  },
  "toc": {
   "base_numbering": 0
  }
 },
 "nbformat": 4,
 "nbformat_minor": 5
}
