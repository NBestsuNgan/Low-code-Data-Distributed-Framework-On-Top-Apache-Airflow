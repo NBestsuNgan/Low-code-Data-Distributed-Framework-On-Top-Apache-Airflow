{
 "cells": [
  {
   "cell_type": "code",
   "execution_count": 1,
   "id": "75bd2a16-1b6d-4a79-8133-0fe4c18a21d6",
   "metadata": {
    "execution": {
     "iopub.execute_input": "2024-12-14T16:07:38.968289Z",
     "iopub.status.busy": "2024-12-14T16:07:38.968182Z",
     "iopub.status.idle": "2024-12-14T16:07:40.742614Z",
     "shell.execute_reply": "2024-12-14T16:07:40.742178Z"
    }
   },
   "outputs": [
    {
     "name": "stderr",
     "output_type": "stream",
     "text": [
      "Setting default log level to \"WARN\".\n",
      "To adjust logging level use sc.setLogLevel(newLevel). For SparkR, use setLogLevel(newLevel).\n",
      "24/12/14 16:07:40 WARN NativeCodeLoader: Unable to load native-hadoop library for your platform... using builtin-java classes where applicable\n"
     ]
    },
    {
     "name": "stderr",
     "output_type": "stream",
     "text": [
      "24/12/14 16:07:40 WARN Utils: Service 'SparkUI' could not bind on port 4040. Attempting port 4041.\n",
      "24/12/14 16:07:40 WARN Utils: Service 'SparkUI' could not bind on port 4041. Attempting port 4042.\n"
     ]
    },
    {
     "name": "stdout",
     "output_type": "stream",
     "text": [
      "Spark version: 3.5.1\n"
     ]
    }
   ],
   "source": [
    "from pyspark.sql import SparkSession\n",
    "\n",
    "# Initialize a Spark session\n",
    "spark = SparkSession.builder \\\n",
    "    .appName(\"TestPySpark\") \\\n",
    "    .getOrCreate()\n",
    "\n",
    "# Print Spark version\n",
    "print(\"Spark version:\", spark.version)\n",
    "\n",
    "# Stop the Spark session\n",
    "# spark.stop()\n"
   ]
  },
  {
   "cell_type": "code",
   "execution_count": 2,
   "id": "430ce9b7-e4f4-44a3-bebc-e6f6d09d9aaa",
   "metadata": {
    "execution": {
     "iopub.execute_input": "2024-12-14T16:07:40.744071Z",
     "iopub.status.busy": "2024-12-14T16:07:40.743914Z",
     "iopub.status.idle": "2024-12-14T16:07:40.746294Z",
     "shell.execute_reply": "2024-12-14T16:07:40.745975Z"
    }
   },
   "outputs": [
    {
     "name": "stdout",
     "output_type": "stream",
     "text": [
      "SparkContext initialized: <SparkContext master=local[*] appName=TestPySpark>\n"
     ]
    }
   ],
   "source": [
    "sc = spark.sparkContext\n",
    "print(\"SparkContext initialized:\", sc)\n"
   ]
  },
  {
   "cell_type": "code",
   "execution_count": 3,
   "id": "0dde2b68-e318-43f5-b08c-938e890adf7b",
   "metadata": {
    "execution": {
     "iopub.execute_input": "2024-12-14T16:07:40.747410Z",
     "iopub.status.busy": "2024-12-14T16:07:40.747313Z",
     "iopub.status.idle": "2024-12-14T16:07:43.268810Z",
     "shell.execute_reply": "2024-12-14T16:07:43.268007Z"
    }
   },
   "outputs": [
    {
     "name": "stdout",
     "output_type": "stream",
     "text": [
      "+-----+---+\n",
      "| Name|Age|\n",
      "+-----+---+\n",
      "|Alice| 29|\n",
      "|  Bob| 35|\n",
      "|Cathy| 25|\n",
      "+-----+---+\n",
      "\n"
     ]
    }
   ],
   "source": [
    "data = [(\"Alice\", 29), (\"Bob\", 35), (\"Cathy\", 25)]\n",
    "columns = [\"Name\", \"Age\"]\n",
    "\n",
    "df = spark.createDataFrame(data, columns)\n",
    "df.show()\n"
   ]
  },
  {
   "cell_type": "code",
   "execution_count": 4,
   "id": "7aad714d-da75-4feb-8e95-051625fd720c",
   "metadata": {
    "execution": {
     "iopub.execute_input": "2024-12-14T16:07:43.270415Z",
     "iopub.status.busy": "2024-12-14T16:07:43.270249Z",
     "iopub.status.idle": "2024-12-14T16:07:43.366546Z",
     "shell.execute_reply": "2024-12-14T16:07:43.366219Z"
    }
   },
   "outputs": [
    {
     "name": "stdout",
     "output_type": "stream",
     "text": [
      "Successfully uploaded blank_file_(2024-12-14 16:07:43.357597).txt to airflow-data\n"
     ]
    }
   ],
   "source": [
    "import boto3\n",
    "import os\n",
    "from datetime import datetime\n",
    "# MinIO configuration\n",
    "endpoint = \"http://minio:9000\"\n",
    "access_key = \"minioadmin\"\n",
    "secret_key = \"minioadmin\"\n",
    "bucket_name = \"airflow-data\"\n",
    "\n",
    "# Connect to MinIO\n",
    "s3_client = boto3.client(\n",
    "    's3',\n",
    "    endpoint_url=endpoint,\n",
    "    aws_access_key_id=access_key,\n",
    "    aws_secret_access_key=secret_key,\n",
    ")\n",
    "\n",
    "# Function to create and upload blank files\n",
    "def create_and_upload_file(filename, bucket_name):\n",
    "    # Create a blank file\n",
    "    with open(filename, 'w') as file:\n",
    "        pass  # This will create an empty file\n",
    "\n",
    "    # Upload to MinIO bucket\n",
    "    try:\n",
    "        s3_client.upload_file(filename, bucket_name, filename)\n",
    "        print(f\"Successfully uploaded {filename} to {bucket_name}\")\n",
    "    except Exception as e:\n",
    "        print(f\"Error uploading {filename}: {e}\")\n",
    "    finally:\n",
    "        # Remove the file after upload (optional)\n",
    "        os.remove(filename)\n",
    "\n",
    "# Example: Create and upload blank files\n",
    "for i in range(1):\n",
    "    filename = f\"blank_file_({datetime.now()}).txt\"  # Example filenames\n",
    "    create_and_upload_file(filename, bucket_name)\n"
   ]
  },
  {
   "cell_type": "code",
   "execution_count": 5,
   "id": "330413f7-35f2-42d1-8427-07c75dc62ef4",
   "metadata": {
    "execution": {
     "iopub.execute_input": "2024-12-14T16:07:43.367976Z",
     "iopub.status.busy": "2024-12-14T16:07:43.367658Z",
     "iopub.status.idle": "2024-12-14T16:07:43.372352Z",
     "shell.execute_reply": "2024-12-14T16:07:43.372052Z"
    }
   },
   "outputs": [
    {
     "data": {
      "text/plain": [
       "'0.6.0'"
      ]
     },
     "execution_count": 5,
     "metadata": {},
     "output_type": "execute_result"
    }
   ],
   "source": [
    "from pyiceberg import __version__\n",
    "\n",
    "__version__"
   ]
  }
 ],
 "metadata": {
  "kernelspec": {
   "display_name": "Python 3 (ipykernel)",
   "language": "python",
   "name": "python3"
  },
  "language_info": {
   "codemirror_mode": {
    "name": "ipython",
    "version": 3
   },
   "file_extension": ".py",
   "mimetype": "text/x-python",
   "name": "python",
   "nbconvert_exporter": "python",
   "pygments_lexer": "ipython3",
   "version": "3.9.18"
  }
 },
 "nbformat": 4,
 "nbformat_minor": 5
}
