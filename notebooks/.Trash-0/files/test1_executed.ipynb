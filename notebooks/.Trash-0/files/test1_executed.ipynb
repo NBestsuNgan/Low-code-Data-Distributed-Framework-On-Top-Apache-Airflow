{
 "cells": [
  {
   "cell_type": "code",
   "execution_count": 1,
   "id": "33cebc18",
   "metadata": {
    "execution": {
     "iopub.execute_input": "2024-12-19T13:02:45.723756Z",
     "iopub.status.busy": "2024-12-19T13:02:45.723270Z",
     "iopub.status.idle": "2024-12-19T13:02:45.734052Z",
     "shell.execute_reply": "2024-12-19T13:02:45.733141Z"
    },
    "papermill": {
     "duration": 0.020814,
     "end_time": "2024-12-19T13:02:45.735655",
     "exception": false,
     "start_time": "2024-12-19T13:02:45.714841",
     "status": "completed"
    },
    "tags": [
     "injected-parameters"
    ]
   },
   "outputs": [],
   "source": [
    "# Parameters\n",
    "af_parm = \"best\"\n"
   ]
  },
  {
   "cell_type": "code",
   "execution_count": 2,
   "id": "9d827a92-d03c-4e5e-8dbd-92bd9f7f5129",
   "metadata": {
    "editable": true,
    "execution": {
     "iopub.execute_input": "2024-12-19T13:02:45.741093Z",
     "iopub.status.busy": "2024-12-19T13:02:45.740878Z",
     "iopub.status.idle": "2024-12-19T13:02:45.743660Z",
     "shell.execute_reply": "2024-12-19T13:02:45.743210Z"
    },
    "papermill": {
     "duration": 0.006353,
     "end_time": "2024-12-19T13:02:45.744668",
     "exception": false,
     "start_time": "2024-12-19T13:02:45.738315",
     "status": "completed"
    },
    "slideshow": {
     "slide_type": ""
    },
    "tags": [
     "parameter"
    ]
   },
   "outputs": [],
   "source": [
    "# af_parm = ''"
   ]
  },
  {
   "cell_type": "code",
   "execution_count": 3,
   "id": "75bd2a16-1b6d-4a79-8133-0fe4c18a21d6",
   "metadata": {
    "editable": true,
    "execution": {
     "iopub.execute_input": "2024-12-19T13:02:45.748374Z",
     "iopub.status.busy": "2024-12-19T13:02:45.748214Z",
     "iopub.status.idle": "2024-12-19T13:02:47.425775Z",
     "shell.execute_reply": "2024-12-19T13:02:47.425314Z"
    },
    "papermill": {
     "duration": 1.680236,
     "end_time": "2024-12-19T13:02:47.426394",
     "exception": false,
     "start_time": "2024-12-19T13:02:45.746158",
     "status": "completed"
    },
    "slideshow": {
     "slide_type": ""
    },
    "tags": []
   },
   "outputs": [
    {
     "name": "stderr",
     "output_type": "stream",
     "text": [
      "Setting default log level to \"WARN\".\n",
      "To adjust logging level use sc.setLogLevel(newLevel). For SparkR, use setLogLevel(newLevel).\n",
      "24/12/19 13:02:46 WARN NativeCodeLoader: Unable to load native-hadoop library for your platform... using builtin-java classes where applicable\n"
     ]
    },
    {
     "name": "stderr",
     "output_type": "stream",
     "text": [
      "24/12/19 13:02:47 WARN Utils: Service 'SparkUI' could not bind on port 4040. Attempting port 4041.\n",
      "24/12/19 13:02:47 WARN Utils: Service 'SparkUI' could not bind on port 4041. Attempting port 4042.\n",
      "24/12/19 13:02:47 WARN Utils: Service 'SparkUI' could not bind on port 4042. Attempting port 4043.\n",
      "24/12/19 13:02:47 WARN Utils: Service 'SparkUI' could not bind on port 4043. Attempting port 4044.\n"
     ]
    },
    {
     "name": "stdout",
     "output_type": "stream",
     "text": [
      "Spark version: 3.5.1\n"
     ]
    }
   ],
   "source": [
    "from pyspark.sql import SparkSession\n",
    "\n",
    "# Initialize a Spark session\n",
    "spark = SparkSession.builder \\\n",
    "    .appName(\"TestPySpark\") \\\n",
    "    .getOrCreate()\n",
    "\n",
    "# Print Spark version\n",
    "print(\"Spark version:\", spark.version)\n",
    "\n",
    "# Stop the Spark session\n",
    "# spark.stop()\n"
   ]
  },
  {
   "cell_type": "code",
   "execution_count": 4,
   "id": "430ce9b7-e4f4-44a3-bebc-e6f6d09d9aaa",
   "metadata": {
    "execution": {
     "iopub.execute_input": "2024-12-19T13:02:47.429376Z",
     "iopub.status.busy": "2024-12-19T13:02:47.429203Z",
     "iopub.status.idle": "2024-12-19T13:02:47.431459Z",
     "shell.execute_reply": "2024-12-19T13:02:47.431201Z"
    },
    "papermill": {
     "duration": 0.004347,
     "end_time": "2024-12-19T13:02:47.431995",
     "exception": false,
     "start_time": "2024-12-19T13:02:47.427648",
     "status": "completed"
    },
    "tags": []
   },
   "outputs": [
    {
     "name": "stdout",
     "output_type": "stream",
     "text": [
      "SparkContext initialized: <SparkContext master=local[*] appName=TestPySpark>\n"
     ]
    }
   ],
   "source": [
    "sc = spark.sparkContext\n",
    "print(\"SparkContext initialized:\", sc)\n"
   ]
  },
  {
   "cell_type": "code",
   "execution_count": 5,
   "id": "0dde2b68-e318-43f5-b08c-938e890adf7b",
   "metadata": {
    "execution": {
     "iopub.execute_input": "2024-12-19T13:02:47.434985Z",
     "iopub.status.busy": "2024-12-19T13:02:47.434749Z",
     "iopub.status.idle": "2024-12-19T13:02:50.069726Z",
     "shell.execute_reply": "2024-12-19T13:02:50.069303Z"
    },
    "papermill": {
     "duration": 2.637442,
     "end_time": "2024-12-19T13:02:50.070506",
     "exception": false,
     "start_time": "2024-12-19T13:02:47.433064",
     "status": "completed"
    },
    "tags": []
   },
   "outputs": [
    {
     "name": "stdout",
     "output_type": "stream",
     "text": [
      "+-----+---+\n",
      "| Name|Age|\n",
      "+-----+---+\n",
      "|Alice| 29|\n",
      "|  Bob| 35|\n",
      "|Cathy| 25|\n",
      "+-----+---+\n",
      "\n"
     ]
    }
   ],
   "source": [
    "data = [(\"Alice\", 29), (\"Bob\", 35), (\"Cathy\", 25)]\n",
    "columns = [\"Name\", \"Age\"]\n",
    "\n",
    "df = spark.createDataFrame(data, columns)\n",
    "df.show()\n"
   ]
  },
  {
   "cell_type": "code",
   "execution_count": 6,
   "id": "7aad714d-da75-4feb-8e95-051625fd720c",
   "metadata": {
    "execution": {
     "iopub.execute_input": "2024-12-19T13:02:50.084535Z",
     "iopub.status.busy": "2024-12-19T13:02:50.084276Z",
     "iopub.status.idle": "2024-12-19T13:02:50.189582Z",
     "shell.execute_reply": "2024-12-19T13:02:50.189322Z"
    },
    "papermill": {
     "duration": 0.113149,
     "end_time": "2024-12-19T13:02:50.190175",
     "exception": false,
     "start_time": "2024-12-19T13:02:50.077026",
     "status": "completed"
    },
    "tags": []
   },
   "outputs": [
    {
     "name": "stdout",
     "output_type": "stream",
     "text": [
      "Successfully uploaded blank_file_best_(2024-12-19 13:02:50.181797).txt to airflow-data\n"
     ]
    }
   ],
   "source": [
    "import boto3\n",
    "import os\n",
    "from datetime import datetime\n",
    "# MinIO configuration\n",
    "endpoint = \"http://minio:9000\"\n",
    "access_key = \"minioadmin\"\n",
    "secret_key = \"minioadmin\"\n",
    "bucket_name = \"airflow-data\"\n",
    "\n",
    "# Connect to MinIO\n",
    "s3_client = boto3.client(\n",
    "    's3',\n",
    "    endpoint_url=endpoint,\n",
    "    aws_access_key_id=access_key,\n",
    "    aws_secret_access_key=secret_key,\n",
    ")\n",
    "\n",
    "# Function to create and upload blank files\n",
    "def create_and_upload_file(filename, bucket_name):\n",
    "    # Create a blank file\n",
    "    with open(filename, 'w') as file:\n",
    "        pass  # This will create an empty file\n",
    "\n",
    "    # Upload to MinIO bucket\n",
    "    try:\n",
    "        s3_client.upload_file(filename, bucket_name, filename)\n",
    "        print(f\"Successfully uploaded {filename} to {bucket_name}\")\n",
    "    except Exception as e:\n",
    "        print(f\"Error uploading {filename}: {e}\")\n",
    "    finally:\n",
    "        # Remove the file after upload (optional)\n",
    "        os.remove(filename)\n",
    "\n",
    "# Example: Create and upload blank files\n",
    "for i in range(1):\n",
    "    filename = f\"blank_file_{af_parm}_({datetime.now()}).txt\"  # Example filenames\n",
    "    create_and_upload_file(filename, bucket_name)\n"
   ]
  }
 ],
 "metadata": {
  "kernelspec": {
   "display_name": "Python 3 (ipykernel)",
   "language": "python",
   "name": "python3"
  },
  "language_info": {
   "codemirror_mode": {
    "name": "ipython",
    "version": 3
   },
   "file_extension": ".py",
   "mimetype": "text/x-python",
   "name": "python",
   "nbconvert_exporter": "python",
   "pygments_lexer": "ipython3",
   "version": "3.9.18"
  },
  "papermill": {
   "default_parameters": {},
   "duration": 7.861936,
   "end_time": "2024-12-19T13:02:52.808674",
   "environment_variables": {},
   "exception": null,
   "input_path": "/home/iceberg/notebooks/notebooks/staging/uat/test_notebook/test1.ipynb",
   "output_path": "/home/iceberg/notebooks/notebooks/staging/uat/test_notebook/test1_executed.ipynb",
   "parameters": {
    "af_parm": "best"
   },
   "start_time": "2024-12-19T13:02:44.946738",
   "version": "2.6.0"
  },
  "toc": {
   "base_numbering": 0
  }
 },
 "nbformat": 4,
 "nbformat_minor": 5
}