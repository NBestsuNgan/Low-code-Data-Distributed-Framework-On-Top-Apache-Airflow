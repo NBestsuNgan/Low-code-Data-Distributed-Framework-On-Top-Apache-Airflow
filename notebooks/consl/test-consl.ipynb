{
 "cells": [
  {
   "cell_type": "code",
   "execution_count": 1,
   "id": "b03b82b1-467c-4b2f-b041-a94059a52cec",
   "metadata": {
    "editable": true,
    "slideshow": {
     "slide_type": "skip"
    },
    "tags": [
     "parameters",
     "parameter"
    ]
   },
   "outputs": [],
   "source": [
    "# paramter cell do not remove!!\n",
    "af_parm = \"afo/config/ride.json|airflow-data/staging/test_project/ride.csv|staging/PRCS_TEST_FRAMEWORK1\""
   ]
  },
  {
   "cell_type": "code",
   "execution_count": null,
   "id": "da187d7e-c66d-41c0-9bef-2cab5d4ecc96",
   "metadata": {},
   "outputs": [],
   "source": [
    "import sys\n",
    "sys.path.append(\"/home/iceberg/notebooks/notebooks\")\n",
    "\n",
    "%load_ext autoreload\n",
    "%autoreload 2\n",
    "    \n",
    "from Framework.module import Utility"
   ]
  },
  {
   "cell_type": "markdown",
   "id": "ac9c84bf-c0e9-49e3-b520-680adeaad713",
   "metadata": {},
   "source": [
    "## Do the task After this"
   ]
  },
  {
   "cell_type": "code",
   "execution_count": 5,
   "id": "c7847f82-6d91-4adb-b74c-5e4795998331",
   "metadata": {},
   "outputs": [
    {
     "name": "stdout",
     "output_type": "stream",
     "text": [
      "config_path : afo/config/ride.json\n",
      "source_path : airflow-data/staging/test_project/ride.csv\n",
      "table_path : staging/PRCS_TEST_FRAMEWORK1\n",
      "source_bucket : airflow-data\n"
     ]
    }
   ],
   "source": [
    "config_path, source_path, table_path = af_parm.split('|')\n",
    "print(\"config_path :\", config_path)\n",
    "print(\"source_path :\", source_path)\n",
    "print(\"table_path :\", table_path)\n",
    "\n",
    "source_bucket=source_path.split('/')[0]\n",
    "print(\"source_bucket :\", source_bucket)"
   ]
  },
  {
   "cell_type": "code",
   "execution_count": 17,
   "id": "70329c70-17dd-4f29-842b-b4474863bc1a",
   "metadata": {},
   "outputs": [
    {
     "name": "stdout",
     "output_type": "stream",
     "text": [
      "+--------+--------------------+---------------------+---------------+-------------+----------+------------------+------------+------------+------------+-----------+-----+-------+----------+------------+---------------------+------------+--------------------+\n",
      "|VendorID|tpep_pickup_datetime|tpep_dropoff_datetime|passenger_count|trip_distance|RatecodeID|store_and_fwd_flag|PULocationID|DOLocationID|payment_type|fare_amount|extra|mta_tax|tip_amount|tolls_amount|improvement_surcharge|total_amount|congestion_surcharge|\n",
      "+--------+--------------------+---------------------+---------------+-------------+----------+------------------+------------+------------+------------+-----------+-----+-------+----------+------------+---------------------+------------+--------------------+\n",
      "|       1| 2024-09-29 00:25:32|  2024-09-29 00:33:39|              1|          1.5|         1|                 N|         238|          75|           2|        8.0|  0.5|    0.5|       0.0|         0.0|                  0.3|         9.3|                 0.0|\n",
      "|       1| 2024-09-29 00:03:19|  2024-09-29 00:25:43|              1|          9.5|         1|                 N|         138|         216|           1|       26.5|  0.5|    0.5|       0.0|         0.0|                  0.3|        27.8|                 0.0|\n",
      "|       2| 2024-09-29 00:15:11|  2024-09-29 00:29:24|              1|         5.85|         1|                 N|         230|          88|           2|       18.5|  0.5|    0.5|       0.0|         0.0|                  0.3|        22.3|                 2.5|\n",
      "|       2| 2024-09-29 00:30:49|  2024-09-29 00:38:26|              1|          1.9|         1|                 N|          88|         232|           1|        8.0|  0.5|    0.5|      2.36|         0.0|                  0.3|       14.16|                 2.5|\n",
      "|       2| 2024-09-29 00:31:26|  2024-09-29 00:38:02|              1|         1.25|         1|                 N|          37|          17|           2|        6.5|  0.5|    0.5|       0.0|         0.0|                  0.3|         7.8|                 0.0|\n",
      "|       1| 2024-09-29 00:09:00|  2024-09-29 00:34:39|              1|          9.7|         1|                 N|         140|          61|           1|       30.0|  3.0|    0.5|       0.0|         0.0|                  0.3|        33.8|                 2.5|\n",
      "|       2| 2024-09-29 00:44:08|  2024-09-29 00:58:12|              1|         5.27|         1|                 N|         137|         260|           1|       16.5|  0.5|    0.5|      6.09|         0.0|                  0.3|       26.39|                 2.5|\n",
      "|       2| 2024-09-29 00:49:20|  2024-09-29 00:56:44|              1|         1.32|         1|                 N|         166|          41|           2|        7.5|  0.5|    0.5|       0.0|         0.0|                  0.3|         8.8|                 0.0|\n",
      "|       2| 2024-09-29 00:21:59|  2024-09-29 00:25:12|              1|         0.73|         1|                 N|         239|         142|           1|        5.0|  0.5|    0.5|      1.32|         0.0|                  0.3|       10.12|                 2.5|\n",
      "|       2| 2024-09-29 00:08:28|  2024-09-29 00:36:18|              1|        18.65|         2|                 N|         132|         249|           1|       52.0|  0.0|    0.5|     11.06|         0.0|                  0.3|       66.36|                 2.5|\n",
      "|       1| 2024-09-29 00:26:44|  2024-09-29 00:43:46|              2|          8.0|         1|                 N|         138|         112|           1|       24.0|  0.5|    0.5|       3.0|         0.0|                  0.3|        28.3|                 0.0|\n",
      "|       2| 2024-09-29 00:40:49|  2024-09-29 00:51:59|              3|         4.97|         1|                 N|          79|         195|           2|       16.0|  0.5|    0.5|       0.0|         0.0|                  0.3|        19.8|                 2.5|\n",
      "|       2| 2024-09-29 00:03:34|  2024-09-29 00:03:42|              1|          0.0|         2|                 N|          45|          45|           1|       52.0|  0.0|    0.5|     11.06|         0.0|                  0.3|       66.36|                 2.5|\n",
      "|       2| 2024-09-29 00:08:53|  2024-09-29 00:12:42|              1|         0.57|         1|                 N|         263|         263|           2|        4.5|  0.5|    0.5|       0.0|         0.0|                  0.3|         8.3|                 2.5|\n",
      "|       2| 2024-09-29 00:16:31|  2024-09-29 00:16:41|              1|          0.0|         1|                 N|         263|         263|           1|        2.5|  0.5|    0.5|      1.89|         0.0|                  0.3|        8.19|                 2.5|\n",
      "|       2| 2024-09-29 00:36:43|  2024-09-29 01:02:48|              1|         9.41|         1|                 N|         170|         116|           1|       29.5|  0.5|    0.5|       3.0|         0.0|                  0.3|        36.3|                 2.5|\n",
      "|       1| 2024-09-29 00:16:31|  2024-09-29 00:16:43|              1|          2.8|         1|                 Y|         141|         141|           2|        2.5|  2.5|    0.5|       0.0|         0.0|                  0.3|         5.8|                 2.5|\n",
      "|       1| 2024-09-29 00:33:37|  2024-09-29 00:55:26|              2|         13.5|         1|                 Y|         137|         254|           2|       36.5|  2.5|    0.5|       0.0|         0.0|                  0.3|        39.8|                 2.5|\n",
      "|       2| 2024-09-29 00:15:15|  2024-09-29 00:17:44|              1|         0.48|         1|                 N|         140|         140|           1|        4.0|  0.5|    0.5|      1.56|         0.0|                  0.3|        9.36|                 2.5|\n",
      "|       2| 2024-09-29 00:38:24|  2024-09-29 00:46:57|              1|         1.67|         1|                 N|         238|          75|           1|        8.0|  0.5|    0.5|      2.79|         0.0|                  0.3|       12.09|                 0.0|\n",
      "+--------+--------------------+---------------------+---------------+-------------+----------+------------------+------------+------------+------------+-----------+-----+-------+----------+------------+---------------------+------------+--------------------+\n",
      "only showing top 20 rows\n",
      "\n"
     ]
    }
   ],
   "source": [
    "df = Utility.af_read_from_staging(table_path)\n",
    "df.show()"
   ]
  },
  {
   "cell_type": "code",
   "execution_count": 29,
   "id": "65d46045-a231-4701-8183-458a1e8c3fc2",
   "metadata": {},
   "outputs": [
    {
     "name": "stderr",
     "output_type": "stream",
     "text": [
      "[Stage 11:=======================================>              (141 + 8) / 192]\r"
     ]
    },
    {
     "name": "stdout",
     "output_type": "stream",
     "text": [
      "Data inserted successfully!\n"
     ]
    },
    {
     "name": "stderr",
     "output_type": "stream",
     "text": [
      "                                                                                \r"
     ]
    }
   ],
   "source": [
    "Utility.af_write_to_oracle(table_path.split('/')[1], df)"
   ]
  }
 ],
 "metadata": {
  "kernelspec": {
   "display_name": "Python 3 (ipykernel)",
   "language": "python",
   "name": "python3"
  },
  "language_info": {
   "codemirror_mode": {
    "name": "ipython",
    "version": 3
   },
   "file_extension": ".py",
   "mimetype": "text/x-python",
   "name": "python",
   "nbconvert_exporter": "python",
   "pygments_lexer": "ipython3",
   "version": "3.9.18"
  }
 },
 "nbformat": 4,
 "nbformat_minor": 5
}
