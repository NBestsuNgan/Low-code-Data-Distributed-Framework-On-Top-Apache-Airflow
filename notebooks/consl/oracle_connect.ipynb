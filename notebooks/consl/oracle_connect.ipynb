{
 "cells": [
  {
   "cell_type": "code",
   "execution_count": null,
   "id": "6863a83c-3bb2-4f74-9c15-aaf41a642bf5",
   "metadata": {},
   "outputs": [],
   "source": [
    "import oracledb\n",
    "\n",
    "# Establish connection to the database\n",
    "connection = oracledb.connect(\n",
    "    user=\"sys\",\n",
    "    password=\"mypassword1\",\n",
    "    dsn=\"oracle19:1521/orclpdb1\",\n",
    "    mode=oracledb.SYSDBA\n",
    ")\n",
    "\n",
    "print(\"Successfully connected to Oracle Database\")\n",
    "\n",
    "cursor = connection.cursor()\n",
    "cursor.execute(\"SELECT * from EDP.DIM_ACCT\")\n",
    "\n",
    "\n",
    "result = cursor.fetchall()  \n",
    "for row in result:\n",
    "    print(row)\n",
    "\n",
    "\n",
    "cursor.close()\n",
    "connection.close()\n"
   ]
  },
  {
   "cell_type": "code",
   "execution_count": null,
   "id": "b68d81c4-4062-412c-883d-50038a2012d3",
   "metadata": {},
   "outputs": [],
   "source": [
    "import oracledb\n",
    "\n",
    "# Establish connection to the database\n",
    "connection = oracledb.connect(\n",
    "    user=\"sys\",\n",
    "    password=\"mypassword1\",\n",
    "    dsn=\"oracle19:1521/orclpdb1\",\n",
    "    mode=oracledb.SYSDBA\n",
    ")\n",
    "\n",
    "print(\"Successfully connected to Oracle Database\")\n",
    "\n",
    "cursor = connection.cursor()\n",
    "cursor.execute(\"INSERT INTO EDP.DIM_ACCT VALUES('1000')\")\n",
    "\n",
    "connection.commit()\n",
    "\n",
    "\n",
    "\n",
    "cursor.close()\n",
    "connection.close()\n"
   ]
  }
 ],
 "metadata": {
  "kernelspec": {
   "display_name": "Python 3 (ipykernel)",
   "language": "python",
   "name": "python3"
  },
  "language_info": {
   "codemirror_mode": {
    "name": "ipython",
    "version": 3
   },
   "file_extension": ".py",
   "mimetype": "text/x-python",
   "name": "python",
   "nbconvert_exporter": "python",
   "pygments_lexer": "ipython3",
   "version": "3.9.18"
  }
 },
 "nbformat": 4,
 "nbformat_minor": 5
}
